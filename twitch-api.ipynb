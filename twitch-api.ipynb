{
 "cells": [
  {
   "cell_type": "code",
   "execution_count": 1,
   "metadata": {
    "collapsed": false
   },
   "outputs": [
    {
     "name": "stdout",
     "output_type": "stream",
     "text": [
      "44322889\n",
      "dallas\n",
      "dallas\n"
     ]
    }
   ],
   "source": [
    "from twitch import TwitchClient\n",
    "\n",
    "client = TwitchClient(client_id='7ftwvcevt0y4oztsissqkqohj1ef7o')\n",
    "channel = client.channels.get_by_id(44322889)\n",
    "\n",
    "print(channel.id)\n",
    "print(channel.name)\n",
    "print(channel.display_name)"
   ]
  }
 ],
 "metadata": {
  "kernelspec": {
   "display_name": "Python 3",
   "language": "python",
   "name": "python3"
  },
  "language_info": {
   "codemirror_mode": {
    "name": "ipython",
    "version": 3
   },
   "file_extension": ".py",
   "mimetype": "text/x-python",
   "name": "python",
   "nbconvert_exporter": "python",
   "pygments_lexer": "ipython3",
   "version": "3.5.2"
  }
 },
 "nbformat": 4,
 "nbformat_minor": 2
}
